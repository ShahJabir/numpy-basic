{
 "cells": [
  {
   "cell_type": "markdown",
   "id": "f15bc75b",
   "metadata": {},
   "source": [
    "# Numpy Demo"
   ]
  },
  {
   "cell_type": "markdown",
   "id": "b8c5757f",
   "metadata": {},
   "source": [
    "## import library"
   ]
  },
  {
   "cell_type": "code",
   "execution_count": 2,
   "id": "328de439",
   "metadata": {},
   "outputs": [],
   "source": [
    "import numpy as np\n",
    "import time"
   ]
  },
  {
   "cell_type": "markdown",
   "id": "17638986",
   "metadata": {},
   "source": [
    "## List vs Numpy array "
   ]
  },
  {
   "cell_type": "code",
   "execution_count": null,
   "id": "fdad166d",
   "metadata": {},
   "outputs": [],
   "source": [
    "start = time.time()\n",
    "py_list = [i*2 for i in range(1000000000)]\n",
    "print(\"\\n List operation time: \", time.time()-start)\n",
    "\n",
    "start = time.time()\n",
    "numpy_arr = np.arange(1000000000)*2\n",
    "print(\"\\n List operation time: \", time.time()-start)"
   ]
  },
  {
   "cell_type": "markdown",
   "id": "dbeadf19",
   "metadata": {},
   "source": [
    "## Creating Array from scratch"
   ]
  },
  {
   "cell_type": "code",
   "execution_count": null,
   "id": "7147c852",
   "metadata": {},
   "outputs": [],
   "source": [
    "zeros = np.zeros((3,4))\n",
    "print(zeros)"
   ]
  },
  {
   "cell_type": "code",
   "execution_count": null,
   "id": "875b5118",
   "metadata": {},
   "outputs": [],
   "source": [
    "start = time.time()\n",
    "full = np.full((2,3), 8)\n",
    "print(full)\n",
    "print(\"it took: \", time.time()-start)"
   ]
  },
  {
   "cell_type": "code",
   "execution_count": null,
   "id": "289428c8",
   "metadata": {},
   "outputs": [],
   "source": [
    "start = time.time()\n",
    "random = np.random.random((5,5))\n",
    "print(random)\n",
    "print(\"it took: \", time.time()-start)"
   ]
  },
  {
   "cell_type": "code",
   "execution_count": null,
   "id": "acf5ea2f",
   "metadata": {},
   "outputs": [],
   "source": [
    "start = time.time()\n",
    "sequence = np.arange(0,41,2)\n",
    "print(sequence)\n",
    "print(\"it took: \", time.time()-start)"
   ]
  }
 ],
 "metadata": {
  "kernelspec": {
   "display_name": ".venv",
   "language": "python",
   "name": "python3"
  },
  "language_info": {
   "codemirror_mode": {
    "name": "ipython",
    "version": 3
   },
   "file_extension": ".py",
   "mimetype": "text/x-python",
   "name": "python",
   "nbconvert_exporter": "python",
   "pygments_lexer": "ipython3",
   "version": "3.13.1"
  }
 },
 "nbformat": 4,
 "nbformat_minor": 5
}
