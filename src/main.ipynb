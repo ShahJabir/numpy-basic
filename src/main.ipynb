{
 "cells": [
  {
   "cell_type": "markdown",
   "id": "f15bc75b",
   "metadata": {},
   "source": [
    "# Numpy Demo\n"
   ]
  },
  {
   "cell_type": "markdown",
   "id": "b8c5757f",
   "metadata": {},
   "source": [
    "## import library\n"
   ]
  },
  {
   "cell_type": "code",
   "execution_count": null,
   "id": "328de439",
   "metadata": {},
   "outputs": [],
   "source": [
    "import numpy as np\n",
    "import time"
   ]
  },
  {
   "cell_type": "markdown",
   "id": "17638986",
   "metadata": {},
   "source": [
    "## List vs Numpy array\n"
   ]
  },
  {
   "cell_type": "code",
   "execution_count": null,
   "id": "fdad166d",
   "metadata": {},
   "outputs": [],
   "source": [
    "start = time.time()\n",
    "py_list = [i*2 for i in range(1000000000)]\n",
    "print(\"\\n List operation time: \", time.time()-start)\n",
    "\n",
    "start = time.time()\n",
    "numpy_arr = np.arange(1000000000)*2\n",
    "print(\"\\n List operation time: \", time.time()-start)"
   ]
  },
  {
   "cell_type": "markdown",
   "id": "dbeadf19",
   "metadata": {},
   "source": [
    "## Creating Array from scratch\n"
   ]
  },
  {
   "cell_type": "code",
   "execution_count": null,
   "id": "7147c852",
   "metadata": {},
   "outputs": [],
   "source": [
    "zeros = np.zeros((3,4))\n",
    "print(zeros)"
   ]
  },
  {
   "cell_type": "code",
   "execution_count": null,
   "id": "875b5118",
   "metadata": {},
   "outputs": [],
   "source": [
    "start = time.time()\n",
    "full = np.full((2,3), 8)\n",
    "print(full)\n",
    "print(\"it took: \", time.time()-start)"
   ]
  },
  {
   "cell_type": "code",
   "execution_count": null,
   "id": "289428c8",
   "metadata": {},
   "outputs": [],
   "source": [
    "start = time.time()\n",
    "random = np.random.random((5,5))\n",
    "print(random)\n",
    "print(\"it took: \", time.time()-start)"
   ]
  },
  {
   "cell_type": "code",
   "execution_count": null,
   "id": "acf5ea2f",
   "metadata": {},
   "outputs": [],
   "source": [
    "start = time.time()\n",
    "sequence = np.arange(0,41,2)\n",
    "print(sequence)\n",
    "print(\"it took: \", time.time()-start)"
   ]
  },
  {
   "cell_type": "markdown",
   "id": "f6e2a09f",
   "metadata": {},
   "source": [
    "## Tensor\n"
   ]
  },
  {
   "cell_type": "code",
   "execution_count": null,
   "id": "e8989242",
   "metadata": {},
   "outputs": [],
   "source": [
    "tensor = np.array([[[1,2],[3,4]],[[5,6],[7,8]]])\n",
    "print(tensor)"
   ]
  },
  {
   "cell_type": "markdown",
   "id": "88ca34bd",
   "metadata": {},
   "source": [
    "## Array Property\n"
   ]
  },
  {
   "cell_type": "code",
   "execution_count": null,
   "id": "3c84b2ec",
   "metadata": {},
   "outputs": [],
   "source": [
    "arr = np.array([[[1,2],[3,4]],[[5,6],[7,8]]])\n",
    "print(\"Shape: \", arr.shape)\n",
    "print(\"Dimension: \", arr.ndim)\n",
    "print(\"Size: \", arr.size)\n",
    "print(\"DType: \", arr.dtype)"
   ]
  },
  {
   "cell_type": "markdown",
   "id": "38eeefa4",
   "metadata": {},
   "source": [
    "## Array Reshaping\n"
   ]
  },
  {
   "cell_type": "code",
   "execution_count": null,
   "id": "0d072d51",
   "metadata": {},
   "outputs": [],
   "source": [
    "arr = np.arange(12)\n",
    "print(\"Original Array: \", arr)\n",
    "\n",
    "reshaped = arr.reshape((3,4))\n",
    "print(\"\\n Reshaped Array: \", reshaped)\n",
    "\n",
    "# ravel (returns a flattened array) vs flatten (returns a copy of the array)\n",
    "\n",
    "flattened = reshaped.flatten()\n",
    "print(\"\\n Flattened Array: \", flattened)\n",
    "\n",
    "ravelled = reshaped.ravel()\n",
    "print(\" Ravelled Array: \", ravelled)\n",
    "\n",
    "#Transpose\n",
    "transposed = reshaped.T\n",
    "print(\"\\n Transposed Array: \", transposed)"
   ]
  },
  {
   "cell_type": "markdown",
   "id": "3c95b7ba",
   "metadata": {},
   "source": [
    "## Numpy Array Operation\n"
   ]
  },
  {
   "cell_type": "code",
   "execution_count": null,
   "id": "674f3b1b",
   "metadata": {},
   "outputs": [],
   "source": [
    "start = time.time()\n",
    "arr = np.array([1,2,3,4,5,6,7,8,9,10])\n",
    "print(\"Basic Slicing: \", arr[2:7])\n",
    "print(\"With step: \", arr[1:8:2])\n",
    "print(\"Negative indexing: \", arr[-3])\n",
    "print(\"it took: \", time.time()-start)"
   ]
  },
  {
   "cell_type": "markdown",
   "id": "0dceac3f",
   "metadata": {},
   "source": [
    "## 2D Numpy Array Operation\n"
   ]
  },
  {
   "cell_type": "code",
   "execution_count": null,
   "id": "2f5b7352",
   "metadata": {},
   "outputs": [],
   "source": [
    "arr_2d = np.array([[1,2,3],[4,5,6],[7,8,9]])\n",
    "print(\"\\n 2D Array: \", arr_2d)\n",
    "print(\"\\n Specific elements: \", arr_2d[1, 2])\n",
    "print(\"Specific row: \", arr_2d[1])\n",
    "print(\"Specific column: \", arr_2d[:, 1])"
   ]
  },
  {
   "cell_type": "markdown",
   "id": "54784497",
   "metadata": {},
   "source": [
    "## Sorting\n"
   ]
  },
  {
   "cell_type": "code",
   "execution_count": null,
   "id": "d9ceb920",
   "metadata": {},
   "outputs": [],
   "source": [
    "unsorted = np.array([9,7,4,8,1,6,2,5,3,0])\n",
    "sorted = np.sort(unsorted)\n",
    "print(\"\\n Sorted Array: \", sorted)\n",
    "print(\"\\n Reverse Sorted Array: \", sorted[::-1])\n",
    "\n",
    "arr_2d_unsorted = np.array([[3,1],[1,2],[2,3]])\n",
    "sorted_2d = np.sort(arr_2d_unsorted, axis=0)\n",
    "print(\"\\n Sorted 2D Array: \", sorted_2d)"
   ]
  },
  {
   "cell_type": "markdown",
   "id": "85ecef1c",
   "metadata": {},
   "source": [
    "## Filtering"
   ]
  },
  {
   "cell_type": "code",
   "execution_count": null,
   "id": "62cbd6ac",
   "metadata": {},
   "outputs": [],
   "source": [
    "arr_2d = np.array([[1,2],[3,4],[5,6],[7,8],[9,10]])\n",
    "print(\"\\n Even Arrays:\", arr_2d[arr_2d % 2 == 0])\n",
    "print(\"\\n Odd Arrays:\", arr_2d[arr_2d % 2 != 0])"
   ]
  }
 ],
 "metadata": {
  "kernelspec": {
   "display_name": ".venv",
   "language": "python",
   "name": "python3"
  },
  "language_info": {
   "codemirror_mode": {
    "name": "ipython",
    "version": 3
   },
   "file_extension": ".py",
   "mimetype": "text/x-python",
   "name": "python",
   "nbconvert_exporter": "python",
   "pygments_lexer": "ipython3",
   "version": "3.13.1"
  }
 },
 "nbformat": 4,
 "nbformat_minor": 5
}
