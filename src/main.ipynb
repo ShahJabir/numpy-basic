{
 "cells": [
  {
   "cell_type": "markdown",
   "id": "b8c5757f",
   "metadata": {},
   "source": [
    "# import library"
   ]
  },
  {
   "cell_type": "code",
   "execution_count": 1,
   "id": "328de439",
   "metadata": {},
   "outputs": [],
   "source": [
    "import numpy as np\n",
    "import time"
   ]
  },
  {
   "cell_type": "markdown",
   "id": "17638986",
   "metadata": {},
   "source": [
    "##  List vs Numpy array "
   ]
  },
  {
   "cell_type": "code",
   "execution_count": 3,
   "id": "fdad166d",
   "metadata": {},
   "outputs": [
    {
     "name": "stdout",
     "output_type": "stream",
     "text": [
      "\n",
      " List operation time:  0.37305331230163574\n",
      "\n",
      " List operation time:  0.02449798583984375\n"
     ]
    }
   ],
   "source": [
    "start = time.time()\n",
    "py_list = [i*2 for i in range(10000000)]\n",
    "print(\"\\n List operation time: \", time.time()-start)\n",
    "\n",
    "start = time.time()\n",
    "numpy_arr = np.arange(10000000)*2\n",
    "print(\"\\n List operation time: \", time.time()-start)"
   ]
  }
 ],
 "metadata": {
  "kernelspec": {
   "display_name": ".venv",
   "language": "python",
   "name": "python3"
  },
  "language_info": {
   "codemirror_mode": {
    "name": "ipython",
    "version": 3
   },
   "file_extension": ".py",
   "mimetype": "text/x-python",
   "name": "python",
   "nbconvert_exporter": "python",
   "pygments_lexer": "ipython3",
   "version": "3.13.1"
  }
 },
 "nbformat": 4,
 "nbformat_minor": 5
}
